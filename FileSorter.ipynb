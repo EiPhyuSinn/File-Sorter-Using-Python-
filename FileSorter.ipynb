{
 "cells": [
  {
   "cell_type": "markdown",
   "metadata": {},
   "source": [
    "This program automatically sorts the files in their relative folders. "
   ]
  },
  {
   "cell_type": "code",
   "execution_count": null,
   "metadata": {},
   "outputs": [],
   "source": [
    "import os,shutil"
   ]
  },
  {
   "cell_type": "markdown",
   "metadata": {},
   "source": [
    "Choose the path you want to sort"
   ]
  },
  {
   "cell_type": "code",
   "execution_count": null,
   "metadata": {},
   "outputs": [],
   "source": [
    "path = r\"/Users/eiphyusinn/Desktop/PythonFiles/\"\n",
    "# see all files in folder \n",
    "files = os.listdir(path) \n",
    "print(files)"
   ]
  },
  {
   "cell_type": "markdown",
   "metadata": {},
   "source": [
    "Creating Folders\n",
    "\n"
   ]
  },
  {
   "cell_type": "code",
   "execution_count": null,
   "metadata": {},
   "outputs": [],
   "source": [
    "extensions = []\n",
    "for file in files:\n",
    "    if '.' in file:       \n",
    "     name, extension = file.split('.')  \n",
    "     extensions.append(extension)\n",
    "\n",
    "extensions = set(extensions)\n",
    "print(f\"Lists of extensions {extensions}\")\n",
    "\n",
    "for e in extensions:\n",
    "    if not os.path.exists(path+e):\n",
    "        os.makedirs(path+e)\n"
   ]
  },
  {
   "cell_type": "markdown",
   "metadata": {},
   "source": [
    "Moving files in Relative Folders\n"
   ]
  },
  {
   "cell_type": "code",
   "execution_count": null,
   "metadata": {},
   "outputs": [],
   "source": [
    "for extension in extensions:\n",
    "    for file in files:\n",
    "       if '.' in file:\n",
    "        if file.endswith(extension):\n",
    "                target_folder = os.path.join(path, extension)  # Build target path correctly\n",
    "                target_file = os.path.join(target_folder, file)  # Include file in target path\n",
    "                shutil.move(os.path.join(path, file), target_file)\n",
    "                print(f\"Moved {file} to {target_folder}\")  # Print for clarity\n",
    "        \n",
    "\n"
   ]
  }
 ],
 "metadata": {
  "kernelspec": {
   "display_name": "Python 3",
   "language": "python",
   "name": "python3"
  },
  "language_info": {
   "codemirror_mode": {
    "name": "ipython",
    "version": 3
   },
   "file_extension": ".py",
   "mimetype": "text/x-python",
   "name": "python",
   "nbconvert_exporter": "python",
   "pygments_lexer": "ipython3",
   "version": "3.11.5"
  }
 },
 "nbformat": 4,
 "nbformat_minor": 2
}
